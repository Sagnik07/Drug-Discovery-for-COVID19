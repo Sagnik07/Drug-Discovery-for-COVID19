{
  "nbformat": 4,
  "nbformat_minor": 0,
  "metadata": {
    "colab": {
      "name": "Copy of 2019201003_covid.ipynb",
      "provenance": [],
      "collapsed_sections": []
    },
    "kernelspec": {
      "name": "python3",
      "display_name": "Python 3"
    }
  },
  "cells": [
    {
      "cell_type": "code",
      "metadata": {
        "id": "uI7S1EiKJBAj",
        "colab_type": "code",
        "colab": {}
      },
      "source": [
        "from google.colab import drive\n",
        "drive.mount('/content/drive')"
      ],
      "execution_count": 0,
      "outputs": []
    },
    {
      "cell_type": "code",
      "metadata": {
        "id": "OoKsb7ZOJYCV",
        "colab_type": "code",
        "colab": {}
      },
      "source": [
        "!wget -c https://repo.continuum.io/archive/Anaconda3-5.1.0-Linux-x86_64.sh\n",
        "!chmod +x Anaconda3-5.1.0-Linux-x86_64.sh\n",
        "!bash ./Anaconda3-5.1.0-Linux-x86_64.sh -b -f -p /usr/local"
      ],
      "execution_count": 0,
      "outputs": []
    },
    {
      "cell_type": "code",
      "metadata": {
        "id": "b21HrJUYatBU",
        "colab_type": "code",
        "colab": {}
      },
      "source": [
        "import sys\n",
        "sys.path.append('/usr/local/lib/python3.6/site-packages/')\n",
        "!conda install -y -c rdkit rdkit;"
      ],
      "execution_count": 0,
      "outputs": []
    },
    {
      "cell_type": "code",
      "metadata": {
        "id": "sLfM0q-Ufp3g",
        "colab_type": "code",
        "colab": {}
      },
      "source": [
        "!pip install git+https://github.com/samoturk/mol2vec;"
      ],
      "execution_count": 0,
      "outputs": []
    },
    {
      "cell_type": "code",
      "metadata": {
        "id": "uieDMHfrGSY2",
        "colab_type": "code",
        "colab": {}
      },
      "source": [
        "import pandas as pd\n",
        "import numpy as np\n",
        "from gensim.models import word2vec\n",
        "import rdkit\n",
        "from rdkit import Chem\n",
        "from mol2vec.features import mol2alt_sentence, mol2sentence, MolSentence, DfVec, sentences2vec\n",
        "from gensim.models import word2vec\n",
        "from sklearn.metrics import mean_squared_error\n",
        "from sklearn.metrics import r2_score\n",
        "from sklearn.metrics import mean_absolute_error"
      ],
      "execution_count": 0,
      "outputs": []
    },
    {
      "cell_type": "code",
      "metadata": {
        "id": "cdpbMWPidYgM",
        "colab_type": "code",
        "colab": {}
      },
      "source": [
        "data = pd.read_csv(\"/content/drive/My Drive/SMAI_Final_Assignment/Q3/train.csv\")\n",
        "y = data['Binding Affinity']\n",
        "data.drop(columns='Binding Affinity',inplace=True)"
      ],
      "execution_count": 0,
      "outputs": []
    },
    {
      "cell_type": "code",
      "metadata": {
        "id": "qff3VTyqd5ie",
        "colab_type": "code",
        "colab": {}
      },
      "source": [
        "data['molecules'] = data['SMILES sequence'].apply(lambda x: Chem.MolFromSmiles(x))\n",
        "model = word2vec.Word2Vec.load('/content/drive/My Drive/SMAI_Final_Assignment/Q3/model_300dim.pkl')"
      ],
      "execution_count": 0,
      "outputs": []
    },
    {
      "cell_type": "code",
      "metadata": {
        "id": "UmZ4CFcoeE1n",
        "colab_type": "code",
        "colab": {}
      },
      "source": [
        "data['sentence'] = data.apply(lambda x: MolSentence(mol2alt_sentence(x['molecules'], 1)), axis=1)\n",
        "\n",
        "data['mol2vec'] = [DfVec(x) for x in sentences2vec(data['sentence'], model, unseen='UNK')]\n",
        "train_data = [x.vec for x in data['mol2vec']] \n",
        "X = np.array(train_data)\n",
        "# print(X)\n",
        "# print(X.shape)"
      ],
      "execution_count": 0,
      "outputs": []
    },
    {
      "cell_type": "code",
      "metadata": {
        "id": "VErrTkcsfW8v",
        "colab_type": "code",
        "colab": {}
      },
      "source": [
        "y = y.values\n",
        "# print(y)\n",
        "# print(y.shape)"
      ],
      "execution_count": 0,
      "outputs": []
    },
    {
      "cell_type": "markdown",
      "metadata": {
        "id": "im1HqyjRn9Po",
        "colab_type": "text"
      },
      "source": [
        "# Testing different models by doing train-validation split"
      ]
    },
    {
      "cell_type": "code",
      "metadata": {
        "id": "L-0CO7bsDCRi",
        "colab_type": "code",
        "colab": {}
      },
      "source": [
        "from sklearn.model_selection import train_test_split\n",
        "X_train, X_test, y_train, y_test = train_test_split(X, y, train_size = 0.80)"
      ],
      "execution_count": 0,
      "outputs": []
    },
    {
      "cell_type": "markdown",
      "metadata": {
        "id": "ZMZOapqVoCwj",
        "colab_type": "text"
      },
      "source": [
        "# Linear Regression"
      ]
    },
    {
      "cell_type": "code",
      "metadata": {
        "id": "Wlo8BU04DCUI",
        "colab_type": "code",
        "outputId": "932c1fc6-c5f2-4f81-d30a-7a826c3282ad",
        "colab": {
          "base_uri": "https://localhost:8080/",
          "height": 69
        }
      },
      "source": [
        "from sklearn.linear_model import LinearRegression\n",
        "model = LinearRegression()\n",
        "reg = model.fit(X_train,y_train)\n",
        "y_pred = model.predict(X_test)\n",
        "r2_lr = r2_score(y_test, y_pred)\n",
        "mse_lr = mean_squared_error(y_test, y_pred)\n",
        "mae_lr = mean_absolute_error(y_test, y_pred)\n",
        "print(\"r2_score: \", r2_lr)\n",
        "print(\"MSE: \", mse_lr)\n",
        "print(\"MAE: \", mae_lr)"
      ],
      "execution_count": 11,
      "outputs": [
        {
          "output_type": "stream",
          "text": [
            "r2_score:  0.5750069991639465\n",
            "MSE:  5.4877698298267115\n",
            "MAE:  1.7480879979765147\n"
          ],
          "name": "stdout"
        }
      ]
    },
    {
      "cell_type": "markdown",
      "metadata": {
        "id": "FubWB7xZoSPn",
        "colab_type": "text"
      },
      "source": [
        "# Ridge CV linear model"
      ]
    },
    {
      "cell_type": "code",
      "metadata": {
        "id": "X0fDiw3Qbd6F",
        "colab_type": "code",
        "outputId": "8ba45c25-a717-4ba0-ef84-68ae78cbe1d2",
        "colab": {
          "base_uri": "https://localhost:8080/",
          "height": 69
        }
      },
      "source": [
        "from sklearn import linear_model\n",
        "reg = linear_model.RidgeCV(alphas=np.logspace(-6, 6, 13))\n",
        "reg.fit(X_train,y_train)\n",
        "y_pred = reg.predict(X_test)\n",
        "r2_ridge = r2_score(y_test, y_pred)\n",
        "mse_ridge = mean_squared_error(y_test, y_pred)\n",
        "mae_ridge = mean_absolute_error(y_test, y_pred)\n",
        "print(\"r2_score: \", r2_ridge)\n",
        "print(\"MSE: \", mse_ridge)\n",
        "print(\"MAE: \", mae_ridge)"
      ],
      "execution_count": 12,
      "outputs": [
        {
          "output_type": "stream",
          "text": [
            "r2_score:  0.5810688490461846\n",
            "MSE:  5.409495512764446\n",
            "MAE:  1.7328159191306627\n"
          ],
          "name": "stdout"
        }
      ]
    },
    {
      "cell_type": "markdown",
      "metadata": {
        "id": "UvJwSTPZoVYl",
        "colab_type": "text"
      },
      "source": [
        "# Bayesian Ridge model"
      ]
    },
    {
      "cell_type": "code",
      "metadata": {
        "id": "U1_CfwOUb3Ag",
        "colab_type": "code",
        "outputId": "f4e5b1db-1e83-46cd-bcde-0a996659a672",
        "colab": {
          "base_uri": "https://localhost:8080/",
          "height": 69
        }
      },
      "source": [
        "reg = linear_model.BayesianRidge()\n",
        "reg.fit(X_train,y_train)\n",
        "y_pred = reg.predict(X_test)\n",
        "r2_score(y_test, y_pred)\n",
        "r2_bayessian = r2_score(y_test, y_pred)\n",
        "mse_bayessian = mean_squared_error(y_test, y_pred)\n",
        "mae_bayessian = mean_absolute_error(y_test, y_pred)\n",
        "print(\"r2_score: \", r2_bayessian)\n",
        "print(\"MSE: \", mse_bayessian)\n",
        "print(\"MAE: \", mae_bayessian)"
      ],
      "execution_count": 13,
      "outputs": [
        {
          "output_type": "stream",
          "text": [
            "r2_score:  0.5817218347453195\n",
            "MSE:  5.401063761625083\n",
            "MAE:  1.7307113600260875\n"
          ],
          "name": "stdout"
        }
      ]
    },
    {
      "cell_type": "markdown",
      "metadata": {
        "id": "g4u2lDY4od3l",
        "colab_type": "text"
      },
      "source": [
        "# Support Vector Regression (SVR)"
      ]
    },
    {
      "cell_type": "markdown",
      "metadata": {
        "id": "U_wHtScPqCds",
        "colab_type": "text"
      },
      "source": [
        "## Testing using different values of parameters for SVR"
      ]
    },
    {
      "cell_type": "code",
      "metadata": {
        "id": "D_j8Ly9aDoVd",
        "colab_type": "code",
        "outputId": "e7be71fb-ce98-40cf-c636-445fb024c68d",
        "colab": {
          "base_uri": "https://localhost:8080/",
          "height": 69
        }
      },
      "source": [
        "from sklearn.svm import SVR\n",
        "clf = SVR(C = 10.0, epsilon = 1.0)\n",
        "clf.fit(X_train,y_train)\n",
        "y_pred_clf = clf.predict(X_test)\n",
        "r2_svr1 = r2_score(y_test, y_pred_clf)\n",
        "mse_svr1 = mean_squared_error(y_test, y_pred_clf)\n",
        "mae_svr1 = mean_absolute_error(y_test, y_pred_clf)\n",
        "print(\"r2_score: \", r2_svr1)\n",
        "print(\"MSE: \", mse_svr1)\n",
        "print(\"MAE: \", mae_svr1)"
      ],
      "execution_count": 14,
      "outputs": [
        {
          "output_type": "stream",
          "text": [
            "r2_score:  0.5970496623104895\n",
            "MSE:  5.203141467602705\n",
            "MAE:  1.644531601370342\n"
          ],
          "name": "stdout"
        }
      ]
    },
    {
      "cell_type": "code",
      "metadata": {
        "id": "HimWxU90Db0H",
        "colab_type": "code",
        "outputId": "bc6f0a2c-864b-4b58-81f4-c80c99423108",
        "colab": {
          "base_uri": "https://localhost:8080/",
          "height": 69
        }
      },
      "source": [
        "from sklearn.svm import SVR\n",
        "clf = SVR(C = 20.0, epsilon = 1.0)\n",
        "clf.fit(X_train,y_train)\n",
        "y_pred_clf = clf.predict(X_test)\n",
        "r2_svr2 = r2_score(y_test, y_pred_clf)\n",
        "mse_svr2 = mean_squared_error(y_test, y_pred_clf)\n",
        "mae_svr2 = mean_absolute_error(y_test, y_pred_clf)\n",
        "print(\"r2_score: \", r2_svr2)\n",
        "print(\"MSE: \", mse_svr2)\n",
        "print(\"MAE: \", mae_svr2)"
      ],
      "execution_count": 15,
      "outputs": [
        {
          "output_type": "stream",
          "text": [
            "r2_score:  0.6080960035569034\n",
            "MSE:  5.060504346278851\n",
            "MAE:  1.6252358000906777\n"
          ],
          "name": "stdout"
        }
      ]
    },
    {
      "cell_type": "code",
      "metadata": {
        "id": "jqTMzaI0B9zv",
        "colab_type": "code",
        "outputId": "0e5fbecc-221b-4ef2-c066-e8752cec2d72",
        "colab": {
          "base_uri": "https://localhost:8080/",
          "height": 69
        }
      },
      "source": [
        "from sklearn.svm import SVR\n",
        "clf = SVR(C = 50.0, epsilon = 0.5)\n",
        "clf.fit(X_train,y_train)\n",
        "y_pred_clf = clf.predict(X_test)\n",
        "r2_svr3 = r2_score(y_test, y_pred_clf)\n",
        "mse_svr3 = mean_squared_error(y_test, y_pred_clf)\n",
        "mae_svr3 = mean_absolute_error(y_test, y_pred_clf)\n",
        "print(\"r2_score: \", r2_svr3)\n",
        "print(\"MSE: \", mse_svr3)\n",
        "print(\"MAE: \", mae_svr3)"
      ],
      "execution_count": 16,
      "outputs": [
        {
          "output_type": "stream",
          "text": [
            "r2_score:  0.6197342917123341\n",
            "MSE:  4.910223644044793\n",
            "MAE:  1.5995100610516946\n"
          ],
          "name": "stdout"
        }
      ]
    },
    {
      "cell_type": "code",
      "metadata": {
        "id": "l0a334MaB-Aq",
        "colab_type": "code",
        "outputId": "bc9c6bea-3f28-4a9c-d36b-8f245b359fba",
        "colab": {
          "base_uri": "https://localhost:8080/",
          "height": 69
        }
      },
      "source": [
        "from sklearn.svm import SVR\n",
        "clf = SVR(C = 50.0, epsilon = 1.0)\n",
        "clf.fit(X_train,y_train)\n",
        "y_pred_clf = clf.predict(X_test)\n",
        "r2_svr4 = r2_score(y_test, y_pred_clf)\n",
        "mse_svr4 = mean_squared_error(y_test, y_pred_clf)\n",
        "mae_svr4= mean_absolute_error(y_test, y_pred_clf)\n",
        "print(\"r2_score: \", r2_svr4)\n",
        "print(\"MSE: \", mse_svr4)\n",
        "print(\"MAE: \", mae_svr4)"
      ],
      "execution_count": 17,
      "outputs": [
        {
          "output_type": "stream",
          "text": [
            "r2_score:  0.6175475691365911\n",
            "MSE:  4.938459944769171\n",
            "MAE:  1.6110817360703773\n"
          ],
          "name": "stdout"
        }
      ]
    },
    {
      "cell_type": "code",
      "metadata": {
        "id": "F14k_GBtDCLi",
        "colab_type": "code",
        "outputId": "574dad1c-9d20-44ad-a23f-03e7593d0bd5",
        "colab": {
          "base_uri": "https://localhost:8080/",
          "height": 69
        }
      },
      "source": [
        "from sklearn.svm import SVR\n",
        "clf = SVR(C = 100.0, epsilon = 1.0)\n",
        "clf.fit(X_train,y_train)\n",
        "y_pred_clf = clf.predict(X_test)\n",
        "r2_svr5 = r2_score(y_test, y_pred_clf)\n",
        "mse_svr5 = mean_squared_error(y_test, y_pred_clf)\n",
        "mae_svr5 = mean_absolute_error(y_test, y_pred_clf)\n",
        "print(\"r2_score: \", r2_svr5)\n",
        "print(\"MSE: \", mse_svr5)\n",
        "print(\"MAE: \", mae_svr5)"
      ],
      "execution_count": 18,
      "outputs": [
        {
          "output_type": "stream",
          "text": [
            "r2_score:  0.621279926294635\n",
            "MSE:  4.89026546399947\n",
            "MAE:  1.6141310969788072\n"
          ],
          "name": "stdout"
        }
      ]
    },
    {
      "cell_type": "code",
      "metadata": {
        "id": "kH30dpuC6JCg",
        "colab_type": "code",
        "outputId": "96ab46b4-66ff-4036-be9d-4b5deb1abf3b",
        "colab": {
          "base_uri": "https://localhost:8080/",
          "height": 69
        }
      },
      "source": [
        "from sklearn.svm import SVR\n",
        "clf = SVR(C = 100.0, epsilon = 1.5)\n",
        "clf.fit(X_train,y_train)\n",
        "y_pred_clf = clf.predict(X_test)\n",
        "r2_svr6 = r2_score(y_test, y_pred_clf)\n",
        "mse_svr6 = mean_squared_error(y_test, y_pred_clf)\n",
        "mae_svr6 = mean_absolute_error(y_test, y_pred_clf)\n",
        "print(\"r2_score: \", r2_svr6)\n",
        "print(\"MSE: \", mse_svr6)\n",
        "print(\"MAE: \", mae_svr6)"
      ],
      "execution_count": 19,
      "outputs": [
        {
          "output_type": "stream",
          "text": [
            "r2_score:  0.6183957191297136\n",
            "MSE:  4.927508112776013\n",
            "MAE:  1.6350381198637078\n"
          ],
          "name": "stdout"
        }
      ]
    },
    {
      "cell_type": "code",
      "metadata": {
        "id": "mUqbsCFg6JFo",
        "colab_type": "code",
        "outputId": "01064ecb-3439-4994-de41-7e35a970a900",
        "colab": {
          "base_uri": "https://localhost:8080/",
          "height": 69
        }
      },
      "source": [
        "from sklearn.svm import SVR\n",
        "clf = SVR(C = 120.0, epsilon = 1.5)\n",
        "clf.fit(X_train,y_train)\n",
        "y_pred_clf = clf.predict(X_test)\n",
        "r2_svr7 = r2_score(y_test, y_pred_clf)\n",
        "mse_svr7 = mean_squared_error(y_test, y_pred_clf)\n",
        "mae_svr7 = mean_absolute_error(y_test, y_pred_clf)\n",
        "print(\"r2_score: \", r2_svr7)\n",
        "print(\"MSE: \", mse_svr7)\n",
        "print(\"MAE: \", mae_svr7)"
      ],
      "execution_count": 20,
      "outputs": [
        {
          "output_type": "stream",
          "text": [
            "r2_score:  0.6179782699359777\n",
            "MSE:  4.932898472349846\n",
            "MAE:  1.6396363778654057\n"
          ],
          "name": "stdout"
        }
      ]
    },
    {
      "cell_type": "code",
      "metadata": {
        "id": "x8oFDP5N6JJ-",
        "colab_type": "code",
        "outputId": "d64582bb-b14b-4605-f8f3-17859c61cd8c",
        "colab": {
          "base_uri": "https://localhost:8080/",
          "height": 69
        }
      },
      "source": [
        "from sklearn.svm import SVR\n",
        "clf = SVR(C = 150.0, epsilon = 1.0)\n",
        "clf.fit(X_train,y_train)\n",
        "y_pred_clf = clf.predict(X_test)\n",
        "r2_svr8 = r2_score(y_test, y_pred_clf)\n",
        "mse_svr8 = mean_squared_error(y_test, y_pred_clf)\n",
        "mae_svr8 = mean_absolute_error(y_test, y_pred_clf)\n",
        "print(\"r2_score: \", r2_svr8)\n",
        "print(\"MSE: \", mse_svr8)\n",
        "print(\"MAE: \", mae_svr8)"
      ],
      "execution_count": 21,
      "outputs": [
        {
          "output_type": "stream",
          "text": [
            "r2_score:  0.6202793434294804\n",
            "MSE:  4.903185602563717\n",
            "MAE:  1.6314457809594343\n"
          ],
          "name": "stdout"
        }
      ]
    },
    {
      "cell_type": "code",
      "metadata": {
        "id": "VpSGswPz6JNq",
        "colab_type": "code",
        "outputId": "ba92ba6b-7e41-4db9-e14a-34d1001a3013",
        "colab": {
          "base_uri": "https://localhost:8080/",
          "height": 69
        }
      },
      "source": [
        "from sklearn.svm import SVR\n",
        "clf = SVR(C = 150.0, epsilon = 1.5)\n",
        "clf.fit(X_train,y_train)\n",
        "y_pred_clf = clf.predict(X_test)\n",
        "r2_svr9 = r2_score(y_test, y_pred_clf)\n",
        "mse_svr9 = mean_squared_error(y_test, y_pred_clf)\n",
        "mae_svr9 = mean_absolute_error(y_test, y_pred_clf)\n",
        "print(\"r2_score: \", r2_svr9)\n",
        "print(\"MSE: \", mse_svr9)\n",
        "print(\"MAE: \", mae_svr9)"
      ],
      "execution_count": 22,
      "outputs": [
        {
          "output_type": "stream",
          "text": [
            "r2_score:  0.6168225397920979\n",
            "MSE:  4.947821967566304\n",
            "MAE:  1.6466994694563037\n"
          ],
          "name": "stdout"
        }
      ]
    },
    {
      "cell_type": "markdown",
      "metadata": {
        "id": "vvFhWDNo9TrC",
        "colab_type": "text"
      },
      "source": [
        "# Comparison of the different models"
      ]
    },
    {
      "cell_type": "code",
      "metadata": {
        "id": "1iedH08hUyho",
        "colab_type": "code",
        "outputId": "18786451-183b-4491-981e-2a6f72e5f43e",
        "colab": {
          "base_uri": "https://localhost:8080/",
          "height": 175
        }
      },
      "source": [
        "lr = [\"Linear Regression model\", r2_lr, mse_lr, mae_lr]\n",
        "ridge = [\"Ridge CV model\", r2_ridge, mse_ridge, mae_ridge]\n",
        "bayessian = [\"Bayessian Ridge model\", r2_bayessian, mse_bayessian, mae_bayessian]\n",
        "svr1 = [\"SVR model\", r2_svr1, mse_svr1, mae_svr1]\n",
        "data = [lr, ridge, bayessian, svr1]\n",
        "df1 = pd.DataFrame(data, columns = ['Model', 'r2 score', 'MSE', 'MAE'])\n",
        "df1"
      ],
      "execution_count": 23,
      "outputs": [
        {
          "output_type": "execute_result",
          "data": {
            "text/html": [
              "<div>\n",
              "<style scoped>\n",
              "    .dataframe tbody tr th:only-of-type {\n",
              "        vertical-align: middle;\n",
              "    }\n",
              "\n",
              "    .dataframe tbody tr th {\n",
              "        vertical-align: top;\n",
              "    }\n",
              "\n",
              "    .dataframe thead th {\n",
              "        text-align: right;\n",
              "    }\n",
              "</style>\n",
              "<table border=\"1\" class=\"dataframe\">\n",
              "  <thead>\n",
              "    <tr style=\"text-align: right;\">\n",
              "      <th></th>\n",
              "      <th>Model</th>\n",
              "      <th>r2 score</th>\n",
              "      <th>MSE</th>\n",
              "      <th>MAE</th>\n",
              "    </tr>\n",
              "  </thead>\n",
              "  <tbody>\n",
              "    <tr>\n",
              "      <th>0</th>\n",
              "      <td>Linear Regression model</td>\n",
              "      <td>0.575007</td>\n",
              "      <td>5.487770</td>\n",
              "      <td>1.748088</td>\n",
              "    </tr>\n",
              "    <tr>\n",
              "      <th>1</th>\n",
              "      <td>Ridge CV model</td>\n",
              "      <td>0.581069</td>\n",
              "      <td>5.409496</td>\n",
              "      <td>1.732816</td>\n",
              "    </tr>\n",
              "    <tr>\n",
              "      <th>2</th>\n",
              "      <td>Bayessian Ridge model</td>\n",
              "      <td>0.581722</td>\n",
              "      <td>5.401064</td>\n",
              "      <td>1.730711</td>\n",
              "    </tr>\n",
              "    <tr>\n",
              "      <th>3</th>\n",
              "      <td>SVR model</td>\n",
              "      <td>0.597050</td>\n",
              "      <td>5.203141</td>\n",
              "      <td>1.644532</td>\n",
              "    </tr>\n",
              "  </tbody>\n",
              "</table>\n",
              "</div>"
            ],
            "text/plain": [
              "                     Model  r2 score       MSE       MAE\n",
              "0  Linear Regression model  0.575007  5.487770  1.748088\n",
              "1           Ridge CV model  0.581069  5.409496  1.732816\n",
              "2    Bayessian Ridge model  0.581722  5.401064  1.730711\n",
              "3                SVR model  0.597050  5.203141  1.644532"
            ]
          },
          "metadata": {
            "tags": []
          },
          "execution_count": 23
        }
      ]
    },
    {
      "cell_type": "markdown",
      "metadata": {
        "id": "YOogE3WT9Xpf",
        "colab_type": "text"
      },
      "source": [
        "# Comparison of SVR models by taking different parameters"
      ]
    },
    {
      "cell_type": "code",
      "metadata": {
        "id": "ITm76CcNUykH",
        "colab_type": "code",
        "outputId": "f408a42b-4470-4792-92bf-ff565b707848",
        "colab": {
          "base_uri": "https://localhost:8080/",
          "height": 332
        }
      },
      "source": [
        "svr1 = [\"C = 10, epsilon = 1.0\", r2_svr1, mse_svr1, mae_svr1]\n",
        "svr2 = [\"C = 20, epsilon = 1.0\", r2_svr2, mse_svr2, mae_svr2]\n",
        "svr3 = [\"C = 50, epsilon = 0.5\", r2_svr3, mse_svr3, mae_svr3]\n",
        "svr4 = [\"C = 50, epsilon = 1.0\", r2_svr4, mse_svr4, mae_svr4]\n",
        "svr5 = [\"C = 100, epsilon = 1.0\", r2_svr5, mse_svr5, mae_svr5]\n",
        "svr6 = [\"C = 100, epsilon = 1.5\", r2_svr6, mse_svr6, mae_svr6]\n",
        "svr7 = [\"C = 120, epsilon = 1.5\", r2_svr7, mse_svr7, mae_svr7]\n",
        "svr8 = [\"C = 150, epsilon = 1.0\", r2_svr8, mse_svr8, mae_svr8]\n",
        "svr9 = [\"C = 150, epsilon = 1.5\", r2_svr9, mse_svr9, mae_svr9]\n",
        "\n",
        "data = [svr1, svr2, svr3, svr4, svr5, svr6, svr7, svr8, svr9]\n",
        "df1 = pd.DataFrame(data, columns = ['SVR Model', 'r2 score', 'MSE', 'MAE'])\n",
        "df1"
      ],
      "execution_count": 24,
      "outputs": [
        {
          "output_type": "execute_result",
          "data": {
            "text/html": [
              "<div>\n",
              "<style scoped>\n",
              "    .dataframe tbody tr th:only-of-type {\n",
              "        vertical-align: middle;\n",
              "    }\n",
              "\n",
              "    .dataframe tbody tr th {\n",
              "        vertical-align: top;\n",
              "    }\n",
              "\n",
              "    .dataframe thead th {\n",
              "        text-align: right;\n",
              "    }\n",
              "</style>\n",
              "<table border=\"1\" class=\"dataframe\">\n",
              "  <thead>\n",
              "    <tr style=\"text-align: right;\">\n",
              "      <th></th>\n",
              "      <th>SVR Model</th>\n",
              "      <th>r2 score</th>\n",
              "      <th>MSE</th>\n",
              "      <th>MAE</th>\n",
              "    </tr>\n",
              "  </thead>\n",
              "  <tbody>\n",
              "    <tr>\n",
              "      <th>0</th>\n",
              "      <td>C = 10, epsilon = 1.0</td>\n",
              "      <td>0.597050</td>\n",
              "      <td>5.203141</td>\n",
              "      <td>1.644532</td>\n",
              "    </tr>\n",
              "    <tr>\n",
              "      <th>1</th>\n",
              "      <td>C = 20, epsilon = 1.0</td>\n",
              "      <td>0.608096</td>\n",
              "      <td>5.060504</td>\n",
              "      <td>1.625236</td>\n",
              "    </tr>\n",
              "    <tr>\n",
              "      <th>2</th>\n",
              "      <td>C = 50, epsilon = 0.5</td>\n",
              "      <td>0.619734</td>\n",
              "      <td>4.910224</td>\n",
              "      <td>1.599510</td>\n",
              "    </tr>\n",
              "    <tr>\n",
              "      <th>3</th>\n",
              "      <td>C = 50, epsilon = 1.0</td>\n",
              "      <td>0.617548</td>\n",
              "      <td>4.938460</td>\n",
              "      <td>1.611082</td>\n",
              "    </tr>\n",
              "    <tr>\n",
              "      <th>4</th>\n",
              "      <td>C = 100, epsilon = 1.0</td>\n",
              "      <td>0.621280</td>\n",
              "      <td>4.890265</td>\n",
              "      <td>1.614131</td>\n",
              "    </tr>\n",
              "    <tr>\n",
              "      <th>5</th>\n",
              "      <td>C = 100, epsilon = 1.5</td>\n",
              "      <td>0.618396</td>\n",
              "      <td>4.927508</td>\n",
              "      <td>1.635038</td>\n",
              "    </tr>\n",
              "    <tr>\n",
              "      <th>6</th>\n",
              "      <td>C = 120, epsilon = 1.5</td>\n",
              "      <td>0.617978</td>\n",
              "      <td>4.932898</td>\n",
              "      <td>1.639636</td>\n",
              "    </tr>\n",
              "    <tr>\n",
              "      <th>7</th>\n",
              "      <td>C = 150, epsilon = 1.0</td>\n",
              "      <td>0.620279</td>\n",
              "      <td>4.903186</td>\n",
              "      <td>1.631446</td>\n",
              "    </tr>\n",
              "    <tr>\n",
              "      <th>8</th>\n",
              "      <td>C = 150, epsilon = 1.5</td>\n",
              "      <td>0.616823</td>\n",
              "      <td>4.947822</td>\n",
              "      <td>1.646699</td>\n",
              "    </tr>\n",
              "  </tbody>\n",
              "</table>\n",
              "</div>"
            ],
            "text/plain": [
              "                SVR Model  r2 score       MSE       MAE\n",
              "0   C = 10, epsilon = 1.0  0.597050  5.203141  1.644532\n",
              "1   C = 20, epsilon = 1.0  0.608096  5.060504  1.625236\n",
              "2   C = 50, epsilon = 0.5  0.619734  4.910224  1.599510\n",
              "3   C = 50, epsilon = 1.0  0.617548  4.938460  1.611082\n",
              "4  C = 100, epsilon = 1.0  0.621280  4.890265  1.614131\n",
              "5  C = 100, epsilon = 1.5  0.618396  4.927508  1.635038\n",
              "6  C = 120, epsilon = 1.5  0.617978  4.932898  1.639636\n",
              "7  C = 150, epsilon = 1.0  0.620279  4.903186  1.631446\n",
              "8  C = 150, epsilon = 1.5  0.616823  4.947822  1.646699"
            ]
          },
          "metadata": {
            "tags": []
          },
          "execution_count": 24
        }
      ]
    },
    {
      "cell_type": "markdown",
      "metadata": {
        "id": "tOLc9GmtQ34t",
        "colab_type": "text"
      },
      "source": [
        "# Test data"
      ]
    },
    {
      "cell_type": "code",
      "metadata": {
        "id": "xHVZiGrfiqmL",
        "colab_type": "code",
        "colab": {}
      },
      "source": [
        "data1 = pd.read_csv(\"/content/drive/My Drive/SMAI_Final_Assignment/Q3/final_test.csv\")\n",
        "data2 = data1\n",
        "data1.drop(columns='Binding Affinity',inplace=True)\n",
        "# X_test = data1\n",
        "# X_test\n",
        "# data1"
      ],
      "execution_count": 0,
      "outputs": []
    },
    {
      "cell_type": "code",
      "metadata": {
        "id": "gBfyC3JFngDK",
        "colab_type": "code",
        "colab": {}
      },
      "source": [
        "data1['molecules'] = data1['SMILES sequence'].apply(lambda x: Chem.MolFromSmiles(x))\n",
        "model = word2vec.Word2Vec.load('/content/drive/My Drive/SMAI_Final_Assignment/Q3/model_300dim.pkl')\n",
        "data1['sentence'] = data1.apply(lambda x: MolSentence(mol2alt_sentence(x['molecules'], 1)), axis=1)\n",
        "\n",
        "data1['mol2vec'] = [DfVec(x) for x in sentences2vec(data1['sentence'], model, unseen='UNK')]\n",
        "X_test = np.array([x.vec for x in data1['mol2vec']])"
      ],
      "execution_count": 0,
      "outputs": []
    },
    {
      "cell_type": "code",
      "metadata": {
        "id": "Xpp1ACiC82p9",
        "colab_type": "code",
        "colab": {}
      },
      "source": [
        "from sklearn.svm import SVR\n",
        "clf = SVR(C = 100.0, epsilon = 1.0)\n",
        "clf.fit(X,y)\n",
        "y_pred_clf = clf.predict(X_test)"
      ],
      "execution_count": 0,
      "outputs": []
    },
    {
      "cell_type": "markdown",
      "metadata": {
        "id": "_7rtj1yYQ_MV",
        "colab_type": "text"
      },
      "source": [
        "# Saving the predictions in csv file"
      ]
    },
    {
      "cell_type": "code",
      "metadata": {
        "id": "1Czt9kjouLN1",
        "colab_type": "code",
        "colab": {}
      },
      "source": [
        "data2 = pd.read_csv(\"/content/drive/My Drive/SMAI_Final_Assignment/Q3/final_test.csv\")\n",
        "data2.drop(columns='Binding Affinity',inplace=True)\n",
        "# data2"
      ],
      "execution_count": 0,
      "outputs": []
    },
    {
      "cell_type": "code",
      "metadata": {
        "id": "aNhXn7SmtkiX",
        "colab_type": "code",
        "colab": {}
      },
      "source": [
        "dfObj = pd.DataFrame(y_pred_clf)\n",
        "data2['Binding Affinity'] = y_pred_clf"
      ],
      "execution_count": 0,
      "outputs": []
    },
    {
      "cell_type": "code",
      "metadata": {
        "id": "dyMEl35luFCN",
        "colab_type": "code",
        "colab": {}
      },
      "source": [
        "import csv\n",
        "data2.to_csv(\"submission.csv\",index=None)"
      ],
      "execution_count": 0,
      "outputs": []
    },
    {
      "cell_type": "code",
      "metadata": {
        "id": "Z-K2NPO6u1oO",
        "colab_type": "code",
        "colab": {}
      },
      "source": [
        "!cp submission.csv \"drive/My Drive/smai\""
      ],
      "execution_count": 0,
      "outputs": []
    }
  ]
}